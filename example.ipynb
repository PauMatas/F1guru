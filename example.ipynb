{
 "cells": [
  {
   "cell_type": "code",
   "execution_count": 1,
   "metadata": {},
   "outputs": [],
   "source": [
    "from f1guru import F1GuruChain"
   ]
  },
  {
   "cell_type": "code",
   "execution_count": 2,
   "metadata": {},
   "outputs": [
    {
     "data": {
      "text/plain": [
       "\"The top 3 drivers with the most driver's world championships are Lewis Hamilton and Michael Schumacher, both with 7 championships each, followed by Juan Manuel Fangio with 5 championships.\""
      ]
     },
     "execution_count": 2,
     "metadata": {},
     "output_type": "execute_result"
    }
   ],
   "source": [
    "F1GuruChain().answer_question(\"TOP3 Drivers with most driver's world championships\")"
   ]
  },
  {
   "cell_type": "code",
   "execution_count": 6,
   "metadata": {},
   "outputs": [
    {
     "data": {
      "text/plain": [
       "'The list of race circuits and years where a Spanish driver has won are as follows: \\n\\n- 2015 at Yas Marina\\n- 2013 at Yas Marina\\n- 2005 at Magny-Cours\\n- 2013 at Spa-Francorchamps\\n- 2010 at Spa-Francorchamps\\n- 2023 at Monza\\n- 2004 at Bahrain\\n- 2011 at Monaco\\n- 2003 at Monza\\n- 2022 at Monza\\n- 2008 at Catalunya\\n- 2007 at Monaco\\n- 2011 at Silverstone\\n- 2024 at Melbourne\\n- 2001 at Sepang\\n- 2017 at Hungaroring\\n- 2003 at Catalunya\\n- 2008 at Magny-Cours\\n- 2014 at Gilles Villeneuve\\n- 2005 at Spa-Francorchamps\\n- 2015 at Silverstone\\n- 2008 at Marina Bay\\n- 2000 at Melbourne\\n- 2005 at Gilles Villeneuve\\n- 2012 at Spa-Francorchamps\\n- 2008 at José Carlos Pace\\n- 2005 at José Carlos Pace\\n- 2012 at Silverstone\\n- 2005 at Hungaroring\\n- 2023 at Melbourne\\n- 2007 at Sepang\\n- 2005 at Nürburgring\\n- 2006 at Enzo e Dino Ferrari\\n- 2008 at Fuji\\n- 2011 at Shanghai\\n- 2013 at Gilles Villeneuve\\n- 2003 at Gilles Villeneuve\\n- 2013 at Americas\\n- 2022 at Red Bull Ring\\n- 2009 at Nürburgring\\n- 2004 at Silverstone\\n- 2024 at Bahrain\\n- 2018 at José Carlos Pace\\n- 2014 at Shanghai\\n- 2012 at Catalunya\\n- 2007 at Gilles Villeneuve\\n- 2005 at Shanghai\\n- 2005 at Melbourne\\n- 2005 at Suzuka\\n- 2011 at Valencia\\n- 2003 at Magny-Cours\\n- 2023 at Bahrain\\n- 2014 at Melbourne\\n- 2006 at Catalunya\\n- 2021 at Hungaroring\\n- 2022 at Americas\\n- 2013 at Shanghai\\n- 2007 at Catalunya\\n- 2005 at Enzo e Dino Ferrari\\n- 2010 at Suzuka\\n- 2013 at Bahrain\\n- 2004 at Sepang\\n- 2005 at Istanbul Park\\n- 2006 at Monza\\n- 2014 at Monaco\\n- 2022 at Gilles Villeneuve\\n- 2013 at Nürburgring\\n- 2005 at Silverstone\\n- 2007 at Nürburgring\\n- 2012 at Monaco\\n- 2005 at Bahrain\\n- 2010 at Monaco\\n- 2023 at Monaco\\n- 2022 at Melbourne\\n- 2007 at Indianapolis\\n- 1999 at Catalunya\\n- 2010 at Silverstone\\n- 2007 at Melbourne\\n- 2006 at Silverstone\\n- 2011 at Melbourne\\n- 2016 at Monza\\n- 2009 at Valencia\\n- 2021 at José Carlos Pace\\n- 2022 at Marina Bay\\n- 2007 at Spa-Francorchamps\\n- 2006 at Gilles Villeneuve\\n- 2006 at Melbourne\\n- 2023 at Marina Bay\\n- 2021 at Istanbul Park\\n- 2011 at Nürburgring\\n- 2009 at Monaco\\n- 2015 at Hungaroring\\n- 2009 at Hungaroring\\n- 2007 at Monza\\n- 2020 at Red Bull Ring\\n- 2006 at Shanghai\\n- 2012 at Hockenheimring\\n- 2022 at Hermanos Rodríguez\\n- 2022 at Hungaroring\\n- 2015 at Suzuka\\n- 2002 at Gilles Villeneuve\\n- 2003 at Sepang\\n- 2016 at Suzuka\\n- 2010 at Bahrain\\n- 2010 at Monza\\n- 2011 at Gilles Villeneuve\\n- 2012 at Valencia\\n- 2005 at Hockenheimring\\n- 2004 at Magny-Cours\\n- 2019 at Shanghai\\n- 2023 at Spa-Francorchamps\\n- 2023 at José Carlos Pace\\n- 2010 at Korea\\n- 2005 at Sepang\\n- 2005 at Monza\\n- 2010 at Marina Bay\\n- 2012 at Sepang\\n- 2004 at Hungaroring\\n- 2023 at Zandvoort\\n- 2005 at Catalunya\\n- 2006 at Suzuka\\n- 2010 at Hockenheimring\\n- 1999 at Monza\\n- 2022 at Spa-Francorchamps\\n- 2010 at Gilles Villeneuve\\n- 2008 at Spa-Francorchamps\\n- 2018 at Melbourne\\n- 2006 at Sepang\\n- 2006 at Monaco\\n- 2008 at Silverstone\\n- 2018 at Yas Marina\\n- 2009 at José Carlos Pace\\n- 2010 at Valencia\\n- 2014 at Marina Bay\\n- 2003 at Hungaroring\\n- 2006 at Nürburgring\\n- 2022 at Suzuka\\n- 2024 at Jeddah\\n- 2006 at Bahrain\\n- 2007 at Hungaroring\\n- 1999 at Nürburgring\\n- 2013 at Catalunya\\n- 2003 at Indianapolis\\n- 2022 at Silverstone\\n- 2022 at Paul Ricard\\n- 2021 at Losail\\n- 2011 at Istanbul Park\\n- 2005 at Monaco\\n- 2009 at Marina Bay\\n\\nThese are the circuits and years where a Spanish driver has emerged victorious.'"
      ]
     },
     "execution_count": 6,
     "metadata": {},
     "output_type": "execute_result"
    }
   ],
   "source": [
    "F1GuruChain().answer_question(\"List all the race circuit and year where a spanish driver has won\")"
   ]
  },
  {
   "cell_type": "code",
   "execution_count": null,
   "metadata": {},
   "outputs": [],
   "source": []
  }
 ],
 "metadata": {
  "kernelspec": {
   "display_name": "f1guru-FigS6www-py3.11",
   "language": "python",
   "name": "python3"
  },
  "language_info": {
   "codemirror_mode": {
    "name": "ipython",
    "version": 3
   },
   "file_extension": ".py",
   "mimetype": "text/x-python",
   "name": "python",
   "nbconvert_exporter": "python",
   "pygments_lexer": "ipython3",
   "version": "3.11.7"
  }
 },
 "nbformat": 4,
 "nbformat_minor": 2
}
